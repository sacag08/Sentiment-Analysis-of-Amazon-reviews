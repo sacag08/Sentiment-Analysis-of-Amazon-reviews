{
 "cells": [
  {
   "cell_type": "markdown",
   "metadata": {},
   "source": [
    "Check if GPU is connected"
   ]
  },
  {
   "cell_type": "code",
   "execution_count": 1,
   "metadata": {},
   "outputs": [
    {
     "name": "stdout",
     "output_type": "stream",
     "text": [
      "Found a GPU with the name: PhysicalDevice(name='/physical_device:GPU:0', device_type='GPU')\n"
     ]
    }
   ],
   "source": [
    "import tensorflow as tf\n",
    "gpus = tf.config.list_physical_devices(\"GPU\")\n",
    "if gpus:\n",
    "    for gpu in gpus:\n",
    "        print(\"Found a GPU with the name:\", gpu)\n",
    "else:\n",
    "    print(\"Failed to detect a GPU.\")"
   ]
  },
  {
   "cell_type": "markdown",
   "metadata": {},
   "source": [
    "Import Libraries"
   ]
  },
  {
   "cell_type": "code",
   "execution_count": 2,
   "metadata": {},
   "outputs": [],
   "source": [
    "import pandas as pd\n",
    "import numpy as np\n",
    "from sklearn.model_selection import train_test_split\n",
    "from tensorflow.keras.preprocessing.text import Tokenizer,text_to_word_sequence\n",
    "from tensorflow.keras.preprocessing.sequence import pad_sequences\n",
    "from tensorflow.keras.callbacks import ModelCheckpoint,TensorBoard\n",
    "from tensorflow.keras.models import Sequential\n",
    "from tensorflow.keras import models,layers,optimizers\n",
    "from sklearn.metrics import accuracy_score,roc_auc_score,f1_score\n",
    "import matplotlib.pyplot as plt\n",
    "%matplotlib inline\n",
    "import seaborn as sns\n",
    "import re"
   ]
  },
  {
   "cell_type": "markdown",
   "metadata": {},
   "source": [
    "Load the Data"
   ]
  },
  {
   "cell_type": "code",
   "execution_count": 3,
   "metadata": {},
   "outputs": [],
   "source": [
    "def load_data(file_path):\n",
    "    txt = open(file_path)\n",
    "    label = []\n",
    "    review = []\n",
    "    for line in txt:\n",
    "        label.append(int(line[9])-1)\n",
    "        review.append(line[10:].strip())\n",
    "    return np.array(label),review\n",
    "\n",
    "label,review = load_data(\"C:/Projects/Sentiment Analysis Project/data/train.ft.txt\")"
   ]
  },
  {
   "cell_type": "markdown",
   "metadata": {},
   "source": [
    "Split the data into train and test set"
   ]
  },
  {
   "cell_type": "code",
   "execution_count": 4,
   "metadata": {},
   "outputs": [],
   "source": [
    "xtrain,xtest,ytrain,ytest = train_test_split(review,label,random_state=10,test_size=0.3)"
   ]
  },
  {
   "cell_type": "markdown",
   "metadata": {},
   "source": [
    "Data Cleaning"
   ]
  },
  {
   "cell_type": "code",
   "execution_count": 5,
   "metadata": {},
   "outputs": [],
   "source": [
    "not_alphanumeric = re.compile(r'[\\W]')\n",
    "not_ascii = re.compile(r'[^a-z0-1\\s]')\n"
   ]
  },
  {
   "cell_type": "code",
   "execution_count": 7,
   "metadata": {},
   "outputs": [],
   "source": [
    "def data_cleaner(data):\n",
    "    processed_data =[]\n",
    "    for text in data:\n",
    "        lower_text = str.lower(text)\n",
    "        cleaned_punctuations = re.sub(not_alphanumeric,r\" \",lower_text)\n",
    "        cleaned_ascii = re.sub(not_ascii,r\"\",cleaned_punctuations)\n",
    "        processed_data.append(cleaned_ascii)\n",
    "    return processed_data"
   ]
  },
  {
   "cell_type": "code",
   "execution_count": 10,
   "metadata": {},
   "outputs": [],
   "source": [
    "train_reviews = data_cleaner(xtrain)\n",
    "del(xtrain)"
   ]
  },
  {
   "cell_type": "code",
   "execution_count": 11,
   "metadata": {},
   "outputs": [],
   "source": [
    "val_reviews = data_cleaner(xtest)\n",
    "del(xtest)\n",
    "del(review)"
   ]
  },
  {
   "cell_type": "markdown",
   "metadata": {},
   "source": [
    "Create and fit the Tockenzier "
   ]
  },
  {
   "cell_type": "code",
   "execution_count": 14,
   "metadata": {},
   "outputs": [],
   "source": [
    "import pickle\n",
    "max_features = 10000\n",
    "tockenizer = Tokenizer(num_words=max_features)\n",
    "tockenizer.fit_on_texts(train_reviews)\n",
    "with open(\"C:/Projects/Sentiment Analysis Project/saved_obj/tokenizer.pkl\",\"wb\") as file_path:\n",
    "    pickle.dump(tockenizer,file_path)\n",
    "train_vectors = tockenizer.texts_to_sequences(train_reviews)\n",
    "del(train_reviews)\n",
    "val_vectors = tockenizer.texts_to_sequences(val_reviews)\n",
    "del(val_reviews)"
   ]
  },
  {
   "cell_type": "markdown",
   "metadata": {},
   "source": [
    "Calulate max length of tokens"
   ]
  },
  {
   "cell_type": "code",
   "execution_count": 23,
   "metadata": {},
   "outputs": [
    {
     "data": {
      "text/plain": [
       "254"
      ]
     },
     "execution_count": 23,
     "metadata": {},
     "output_type": "execute_result"
    }
   ],
   "source": [
    "max_len = max(len(train_vec) for train_vec in train_vectors)\n",
    "max_len"
   ]
  },
  {
   "cell_type": "markdown",
   "metadata": {},
   "source": [
    "Save the Max lenth for future inference"
   ]
  },
  {
   "cell_type": "code",
   "execution_count": null,
   "metadata": {},
   "outputs": [],
   "source": [
    "\n",
    "with open(\"C:/Projects/Sentiment Analysis Project/saved_obj/maxlen.pkl\",\"wb\") as file_path:\n",
    "    pickle.dump(max_len,file_path)\n",
    "padded_train_vectors = pad_sequences(train_vectors,maxlen=max_len)\n",
    "padded_val_vectors = pad_sequences(val_vectors,maxlen=max_len)\n"
   ]
  },
  {
   "cell_type": "markdown",
   "metadata": {},
   "source": [
    "Collect garbage values to free RAM"
   ]
  },
  {
   "cell_type": "code",
   "execution_count": 16,
   "metadata": {},
   "outputs": [
    {
     "data": {
      "text/plain": [
       "92"
      ]
     },
     "execution_count": 16,
     "metadata": {},
     "output_type": "execute_result"
    }
   ],
   "source": [
    "import gc\n",
    "gc.collect()"
   ]
  },
  {
   "cell_type": "code",
   "execution_count": 17,
   "metadata": {},
   "outputs": [],
   "source": [
    "import pickle\n",
    "def save_data(file_path,obj):\n",
    "    with open(file_path,'wb') as file:\n",
    "        pickle.dump(obj,file)"
   ]
  },
  {
   "cell_type": "markdown",
   "metadata": {},
   "source": [
    "Save test and validation data"
   ]
  },
  {
   "cell_type": "code",
   "execution_count": 18,
   "metadata": {},
   "outputs": [],
   "source": [
    "save_data(\"./saved_obj/train.pkl\",padded_train_vectors)\n",
    "save_data(\"./saved_obj/train_label.pkl\",ytrain)"
   ]
  },
  {
   "cell_type": "code",
   "execution_count": 19,
   "metadata": {},
   "outputs": [],
   "source": [
    "save_data(\"./saved_obj/val.pkl\",padded_val_vectors)\n",
    "save_data(\"./saved_obj/test_label.pkl\",ytest)"
   ]
  },
  {
   "cell_type": "markdown",
   "metadata": {},
   "source": [
    "Load the saved test and validation data"
   ]
  },
  {
   "cell_type": "code",
   "execution_count": null,
   "metadata": {},
   "outputs": [],
   "source": [
    "def load_data(file_path):\n",
    "    with open(file_path,'rb') as file:\n",
    "        return pickle.load(file)\n",
    "padded_train_vectors = load_data(\"./saved_obj/train.pkl\")\n",
    "ytrain = load_data(\"./saved_obj/train_label.pkl\")\n",
    "padded_val_vectors = load_data(\"./saved_obj/val.pkl\")\n",
    "ytest = load_data(\"./saved_obj/test_label.pkl\")"
   ]
  },
  {
   "cell_type": "code",
   "execution_count": 21,
   "metadata": {},
   "outputs": [
    {
     "data": {
      "text/plain": [
       "254"
      ]
     },
     "execution_count": 21,
     "metadata": {},
     "output_type": "execute_result"
    }
   ],
   "source": [
    "max_features = 10000\n",
    "max_len = len(padded_train_vectors[0])\n",
    "max_len"
   ]
  },
  {
   "cell_type": "markdown",
   "metadata": {},
   "source": [
    "Define the layers for RNN modeling"
   ]
  },
  {
   "cell_type": "code",
   "execution_count": 26,
   "metadata": {},
   "outputs": [],
   "source": [
    "model = Sequential()\n",
    "model.add(layers.Embedding(max_features,64,input_shape = (max_len,)))\n",
    "model.add(layers.GRU(128,return_sequences=True))\n",
    "model.add(layers.GRU(128))\n",
    "model.add(layers.Dense(32,activation=\"relu\"))\n",
    "model.add(layers.Dense(100,activation=\"relu\"))\n",
    "model.add(layers.Dense(1,activation=\"sigmoid\"))\n",
    "check_point = ModelCheckpoint(\"./saved_obj/gru1.keras\",monitor=\"accuracy\",save_best_only = True,verbose=1)"
   ]
  },
  {
   "cell_type": "markdown",
   "metadata": {},
   "source": [
    "Get model summary"
   ]
  },
  {
   "cell_type": "code",
   "execution_count": 27,
   "metadata": {},
   "outputs": [
    {
     "name": "stdout",
     "output_type": "stream",
     "text": [
      "Model: \"sequential_1\"\n",
      "_________________________________________________________________\n",
      " Layer (type)                Output Shape              Param #   \n",
      "=================================================================\n",
      " embedding_1 (Embedding)     (None, 254, 64)           640000    \n",
      "                                                                 \n",
      " gru_2 (GRU)                 (None, 254, 128)          74496     \n",
      "                                                                 \n",
      " gru_3 (GRU)                 (None, 128)               99072     \n",
      "                                                                 \n",
      " dense_3 (Dense)             (None, 32)                4128      \n",
      "                                                                 \n",
      " dense_4 (Dense)             (None, 100)               3300      \n",
      "                                                                 \n",
      " dense_5 (Dense)             (None, 1)                 101       \n",
      "                                                                 \n",
      "=================================================================\n",
      "Total params: 821,097\n",
      "Trainable params: 821,097\n",
      "Non-trainable params: 0\n",
      "_________________________________________________________________\n"
     ]
    }
   ],
   "source": [
    "model.summary()"
   ]
  },
  {
   "cell_type": "markdown",
   "metadata": {},
   "source": [
    "Complie the RNN model"
   ]
  },
  {
   "cell_type": "code",
   "execution_count": 28,
   "metadata": {},
   "outputs": [],
   "source": [
    "model.compile(optimizer='adam',loss='binary_crossentropy',metrics = ['accuracy'])\n",
    "logdir=\"logs\"\n",
    "tensor_board_visualizations= TensorBoard(log_dir=logdir)"
   ]
  },
  {
   "cell_type": "markdown",
   "metadata": {},
   "source": [
    "Fit the model"
   ]
  },
  {
   "cell_type": "code",
   "execution_count": 29,
   "metadata": {},
   "outputs": [
    {
     "name": "stdout",
     "output_type": "stream",
     "text": [
      "Epoch 1/3\n",
      "19688/19688 [==============================] - ETA: 0s - loss: 0.1634 - accuracy: 0.9371\n",
      "Epoch 1: accuracy improved from -inf to 0.93714, saving model to ./saved_obj\\gru1.keras\n",
      "19688/19688 [==============================] - 1195s 60ms/step - loss: 0.1634 - accuracy: 0.9371 - val_loss: 0.1349 - val_accuracy: 0.9495\n",
      "Epoch 2/3\n",
      "19687/19688 [============================>.] - ETA: 0s - loss: 0.1255 - accuracy: 0.9536\n",
      "Epoch 2: accuracy improved from 0.93714 to 0.95362, saving model to ./saved_obj\\gru1.keras\n",
      "19688/19688 [==============================] - 1157s 59ms/step - loss: 0.1255 - accuracy: 0.9536 - val_loss: 0.1276 - val_accuracy: 0.9533\n",
      "Epoch 3/3\n",
      "19687/19688 [============================>.] - ETA: 0s - loss: 0.1120 - accuracy: 0.9594\n",
      "Epoch 3: accuracy improved from 0.95362 to 0.95939, saving model to ./saved_obj\\gru1.keras\n",
      "19688/19688 [==============================] - 1119s 57ms/step - loss: 0.1120 - accuracy: 0.9594 - val_loss: 0.1251 - val_accuracy: 0.9538\n"
     ]
    }
   ],
   "source": [
    "history = model.fit(padded_train_vectors,ytrain,batch_size=128,epochs=3,validation_data=(padded_val_vectors,ytest),callbacks=[check_point,tensor_board_visualizations])"
   ]
  },
  {
   "cell_type": "code",
   "execution_count": 36,
   "metadata": {},
   "outputs": [
    {
     "data": {
      "text/plain": [
       "<keras.engine.sequential.Sequential at 0x1ece8411f40>"
      ]
     },
     "execution_count": 36,
     "metadata": {},
     "output_type": "execute_result"
    }
   ],
   "source": [
    "import tensorflow as tf\n",
    "tf.keras.models.load_model(\"C:/Projects/Sentiment Analysis Project/saved_obj/gru1.keras\")"
   ]
  },
  {
   "cell_type": "markdown",
   "metadata": {},
   "source": [
    "Load and clean the test data"
   ]
  },
  {
   "cell_type": "code",
   "execution_count": 30,
   "metadata": {},
   "outputs": [],
   "source": [
    "label,review = load_data(\"C:/Projects/Sentiment Analysis Project/data/test.ft.txt\")"
   ]
  },
  {
   "cell_type": "code",
   "execution_count": 31,
   "metadata": {},
   "outputs": [],
   "source": [
    "xtest_cleaned = data_cleaner(review)"
   ]
  },
  {
   "cell_type": "code",
   "execution_count": 32,
   "metadata": {},
   "outputs": [],
   "source": [
    "xtest_tokenize = tockenizer.texts_to_sequences(xtest_cleaned)\n",
    "xtest_padded = pad_sequences(xtest_tokenize,maxlen=max_len)"
   ]
  },
  {
   "cell_type": "markdown",
   "metadata": {},
   "source": [
    "Save the processed test data for future inference"
   ]
  },
  {
   "cell_type": "code",
   "execution_count": 35,
   "metadata": {},
   "outputs": [],
   "source": [
    "save_data(\"./test.pkl\",xtest_padded)\n",
    "save_data(\"./test_label.pkl\",label)"
   ]
  },
  {
   "cell_type": "markdown",
   "metadata": {},
   "source": [
    "Determine the predictions for test data"
   ]
  },
  {
   "cell_type": "code",
   "execution_count": 34,
   "metadata": {},
   "outputs": [
    {
     "name": "stdout",
     "output_type": "stream",
     "text": [
      "12500/12500 [==============================] - 204s 16ms/step\n"
     ]
    }
   ],
   "source": [
    "pred = model.predict(xtest_padded)"
   ]
  },
  {
   "cell_type": "markdown",
   "metadata": {},
   "source": [
    "Calculate performance metrics"
   ]
  },
  {
   "cell_type": "code",
   "execution_count": 35,
   "metadata": {},
   "outputs": [
    {
     "name": "stdout",
     "output_type": "stream",
     "text": [
      "Accuracy score of the RNN Model: 0.954\n",
      "F1 score of the RNN Model: 0.953\n",
      "ROC AUC score of the RNN Model: 0.99\n"
     ]
    }
   ],
   "source": [
    "accuracy_rnn = accuracy_score(label, 1 * (pred > 0.5))\n",
    "f1_rnn = f1_score(label, 1 * (pred > 0.5))\n",
    "rocauc_rnn = roc_auc_score(label, pred)\n",
    "\n",
    "print('Accuracy score of the RNN Model: {:0.3}'.format(accuracy_rnn))\n",
    "print('F1 score of the RNN Model: {:0.3}'.format(f1_rnn))\n",
    "print('ROC AUC score of the RNN Model: {:0.3}'.format(rocauc_rnn))"
   ]
  },
  {
   "cell_type": "markdown",
   "metadata": {},
   "source": [
    "RNN model has shown strong results for sentiment analysis tasks"
   ]
  }
 ],
 "metadata": {
  "kernelspec": {
   "display_name": "Python 3",
   "language": "python",
   "name": "python3"
  },
  "language_info": {
   "codemirror_mode": {
    "name": "ipython",
    "version": 3
   },
   "file_extension": ".py",
   "mimetype": "text/x-python",
   "name": "python",
   "nbconvert_exporter": "python",
   "pygments_lexer": "ipython3",
   "version": "3.9.20"
  }
 },
 "nbformat": 4,
 "nbformat_minor": 2
}
